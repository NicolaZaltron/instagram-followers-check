{
 "cells": [
  {
   "cell_type": "code",
   "execution_count": null,
   "metadata": {},
   "outputs": [],
   "source": [
    "import json\n",
    "\n",
    "following = open('following.json')\n",
    "following_data = json.load(following)\n",
    "following_accounts_list = [following['string_list_data'][0]['href'] for following in following_data['relationships_following']]\n",
    "\n",
    "followers = open('followers_1.json')\n",
    "followers_data = json.load(followers)\n",
    "followers_accounts_list = [follower['string_list_data'][0]['href'] for follower in followers_data]\n",
    "\n",
    "whitelist = open('whitelist.txt')\n",
    "whitelist_accounts_list = []\n",
    "for line in whitelist:\n",
    "    whitelist_accounts_list.append(line.rstrip())\n",
    "\n",
    "print(\"following: \" + str(len(following_accounts_list)))\n",
    "print(\"followers: \" + str(len(followers_accounts_list)))\n",
    "print(\"whitelist: \" + str(len(whitelist_accounts_list)))"
   ]
  },
  {
   "cell_type": "code",
   "execution_count": null,
   "metadata": {},
   "outputs": [],
   "source": [
    "non_followers = []\n",
    "\n",
    "for follow in following_accounts_list:\n",
    "    if follow not in followers_accounts_list:\n",
    "        non_followers.append(follow)\n",
    "\n",
    "for nf in non_followers:\n",
    "    if(nf not in whitelist_accounts_list):\n",
    "        print(nf)"
   ]
  }
 ],
 "metadata": {
  "kernelspec": {
   "display_name": "Python 3",
   "language": "python",
   "name": "python3"
  },
  "language_info": {
   "codemirror_mode": {
    "name": "ipython",
    "version": 3
   },
   "file_extension": ".py",
   "mimetype": "text/x-python",
   "name": "python",
   "nbconvert_exporter": "python",
   "pygments_lexer": "ipython3",
   "version": "3.12.2"
  }
 },
 "nbformat": 4,
 "nbformat_minor": 2
}
