{
 "cells": [
  {
   "cell_type": "code",
   "execution_count": null,
   "metadata": {},
   "outputs": [],
   "source": [
    "import json\n",
    "\n",
    "following = open('following.json')\n",
    "following_data = json.load(following)\n",
    "followign_accounts_list = following_data['relationships_following']\n",
    "\n",
    "print (\"following: \" + str(len(followign_accounts_list)))\n",
    "\n",
    "followers = open('followers_1.json')\n",
    "followers_data = json.load(followers)\n",
    "followers_accounts_list = followers_data\n",
    "\n",
    "print (\"followers: \" + str(len(followers_accounts_list)))"
   ]
  },
  {
   "cell_type": "code",
   "execution_count": null,
   "metadata": {},
   "outputs": [],
   "source": [
    "whitelist = [\n",
    "    \"https://www.instagram.com/user1\",\n",
    "    \"https://www.instagram.com/user2\"\n",
    "]"
   ]
  },
  {
   "cell_type": "code",
   "execution_count": null,
   "metadata": {},
   "outputs": [],
   "source": [
    "non_followers = []\n",
    "\n",
    "for follow in followign_accounts_list:\n",
    "    found = False\n",
    "    for follower in followers_accounts_list:\n",
    "        if found == False and follow['string_list_data'][0]['href'] == follower['string_list_data'][0]['href']:\n",
    "            found = True\n",
    "    if found == False:\n",
    "        non_followers.append(follow['string_list_data'][0]['href'])\n",
    "\n",
    "for nf in non_followers:\n",
    "    if(nf not in whitelist):\n",
    "        print(nf)"
   ]
  }
 ],
 "metadata": {
  "kernelspec": {
   "display_name": "Python 3",
   "language": "python",
   "name": "python3"
  },
  "language_info": {
   "codemirror_mode": {
    "name": "ipython",
    "version": 3
   },
   "file_extension": ".py",
   "mimetype": "text/x-python",
   "name": "python",
   "nbconvert_exporter": "python",
   "pygments_lexer": "ipython3",
   "version": "3.12.2"
  }
 },
 "nbformat": 4,
 "nbformat_minor": 2
}
